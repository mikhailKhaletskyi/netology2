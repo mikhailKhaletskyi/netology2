{
 "cells": [
  {
   "cell_type": "code",
   "execution_count": 6,
   "id": "df59ca32",
   "metadata": {},
   "outputs": [
    {
     "name": "stdout",
     "output_type": "stream",
     "text": [
      "Введите первую фразу: f\n",
      "Введите вторую фразу: g\n",
      "Фразы равной длины\n"
     ]
    }
   ],
   "source": [
    "phrase1 = input(\"Введите первую фразу: \")\n",
    "phrase2 = input(\"Введите вторую фразу: \") \n",
    "if len(phrase1) > len(phrase2):\n",
    "    print(\"Фраза 1 длиннее фразы 2\")\n",
    "elif len(phrase1) < len(phrase2):\n",
    "    print(\"Фраза 2 длиннее фразы 1\")\n",
    "else:\n",
    "    print(\"Фразы равной длины\")"
   ]
  }
 ],
 "metadata": {
  "kernelspec": {
   "display_name": "Python 3",
   "language": "python",
   "name": "python3"
  },
  "language_info": {
   "codemirror_mode": {
    "name": "ipython",
    "version": 3
   },
   "file_extension": ".py",
   "mimetype": "text/x-python",
   "name": "python",
   "nbconvert_exporter": "python",
   "pygments_lexer": "ipython3",
   "version": "3.9.0"
  }
 },
 "nbformat": 4,
 "nbformat_minor": 5
}
