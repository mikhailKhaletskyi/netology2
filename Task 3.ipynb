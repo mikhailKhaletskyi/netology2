{
 "cells": [
  {
   "cell_type": "code",
   "execution_count": 6,
   "id": "a32f1133",
   "metadata": {},
   "outputs": [
    {
     "name": "stdout",
     "output_type": "stream",
     "text": [
      "Введите день: 31\n",
      "Введите месяц: Июль\n",
      "Ваш знак зодиака: Лев\n"
     ]
    }
   ],
   "source": [
    "day = input(\"Введите день: \")\n",
    "month = input(\"Введите месяц: \")\n",
    "if (month == \"Март\" and int(day) >= 21) or (month == \"Апрель\" and int(day) <= 20):\n",
    "    print(\"Ваш знак зодиака: Овен\")\n",
    "elif (month == \"Апрель\" and int(day) >= 21) or (month == \"Май\" and int(day) <= 21):\n",
    "    print(\"Ваш знак зодиака: Телец\")\n",
    "elif (month == \"Май\" and int(day) >= 22) or (month == \"Июнь\" and int(day) <= 21):\n",
    "    print(\"Ваш знак зодиака: Близнецы\")\n",
    "elif (month == \"Июнь\" and int(day) >= 22) or (month == \"Июль\" and int(day) <= 22):\n",
    "    print(\"Ваш знак зодиака: Рак\")\n",
    "elif (month == \"Июль\" and int(day) >= 23) or (month == \"Август\" and int(day) <= 21):\n",
    "    print(\"Ваш знак зодиака: Лев\")\n",
    "elif (month == \"Август\" and int(day) >= 22) or (month == \"Сентябрь\" and int(day) <= 23):\n",
    "    print(\"Ваш знак зодиака: Дева\")\n",
    "elif (month == \"Сентябрь\" and int(day) >= 24) or (month == \"Октябрь\" and int(day) <= 23):\n",
    "    print(\"Ваш знак зодиака: Весы\")\n",
    "elif (month == \"Октябрь\" and int(day) >= 24) or (month == \"Ноябрь\" and int(day) <= 22):\n",
    "    print(\"Ваш знак зодиака: Скорпион\")\n",
    "elif (month == \"Ноябрь\" and int(day) >= 23) or (month == \"Декабрь\" and int(day) <= 22):\n",
    "    print(\"Ваш знак зодиака: Стрелец\")\n",
    "elif (month == \"Декабрь\" and int(day) >= 23) or (month == \"Январь\" and int(day) <= 20):\n",
    "    print(\"Ваш знак зодиака: Козерог\")\n",
    "elif (month == \"Январь\" and int(day) >= 21) or (month == \"Февраль\" and int(day) <= 19):\n",
    "    print(\"Ваш знак зодиака: Водолей\")\n",
    "else:\n",
    "    print(\"Ваш знак зодиака: Рыбы\")"
   ]
  }
 ],
 "metadata": {
  "kernelspec": {
   "display_name": "Python 3",
   "language": "python",
   "name": "python3"
  },
  "language_info": {
   "codemirror_mode": {
    "name": "ipython",
    "version": 3
   },
   "file_extension": ".py",
   "mimetype": "text/x-python",
   "name": "python",
   "nbconvert_exporter": "python",
   "pygments_lexer": "ipython3",
   "version": "3.9.0"
  }
 },
 "nbformat": 4,
 "nbformat_minor": 5
}
